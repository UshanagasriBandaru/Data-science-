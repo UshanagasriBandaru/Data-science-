{
  "nbformat": 4,
  "nbformat_minor": 0,
  "metadata": {
    "colab": {
      "provenance": []
    },
    "kernelspec": {
      "name": "python3",
      "display_name": "Python 3"
    },
    "language_info": {
      "name": "python"
    }
  },
  "cells": [
    {
      "cell_type": "markdown",
      "source": [
        "load and explore the data"
      ],
      "metadata": {
        "id": "dD9e-k0sVLW1"
      }
    },
    {
      "cell_type": "code",
      "source": [
        "import pandas as pd"
      ],
      "metadata": {
        "id": "ACCK93LTS5eO"
      },
      "execution_count": 7,
      "outputs": []
    },
    {
      "cell_type": "code",
      "source": [
        "\n",
        "\n",
        "# Try different encodings\n",
        "df = pd.read_csv(\"sales_data_sample.csv\", encoding=\"ISO-8859-1\")\n",
        "\n",
        "# Display the first 5 rows\n",
        "print(df.head())\n"
      ],
      "metadata": {
        "colab": {
          "base_uri": "https://localhost:8080/"
        },
        "id": "rndnEBPVUrx0",
        "outputId": "905b7e53-71d0-4a6f-d061-e59533b92618"
      },
      "execution_count": 14,
      "outputs": [
        {
          "output_type": "stream",
          "name": "stdout",
          "text": [
            "   ORDERNUMBER  QUANTITYORDERED  PRICEEACH  ORDERLINENUMBER    SALES  \\\n",
            "0        10107               30      95.70                2  2871.00   \n",
            "1        10121               34      81.35                5  2765.90   \n",
            "2        10134               41      94.74                2  3884.34   \n",
            "3        10145               45      83.26                6  3746.70   \n",
            "4        10159               49     100.00               14  5205.27   \n",
            "\n",
            "         ORDERDATE   STATUS  QTR_ID  MONTH_ID  YEAR_ID  ...  \\\n",
            "0   2/24/2003 0:00  Shipped       1         2     2003  ...   \n",
            "1    5/7/2003 0:00  Shipped       2         5     2003  ...   \n",
            "2    7/1/2003 0:00  Shipped       3         7     2003  ...   \n",
            "3   8/25/2003 0:00  Shipped       3         8     2003  ...   \n",
            "4  10/10/2003 0:00  Shipped       4        10     2003  ...   \n",
            "\n",
            "                    ADDRESSLINE1  ADDRESSLINE2           CITY STATE  \\\n",
            "0        897 Long Airport Avenue           NaN            NYC    NY   \n",
            "1             59 rue de l'Abbaye           NaN          Reims   NaN   \n",
            "2  27 rue du Colonel Pierre Avia           NaN          Paris   NaN   \n",
            "3             78934 Hillside Dr.           NaN       Pasadena    CA   \n",
            "4                7734 Strong St.           NaN  San Francisco    CA   \n",
            "\n",
            "  POSTALCODE COUNTRY TERRITORY CONTACTLASTNAME CONTACTFIRSTNAME DEALSIZE  \n",
            "0      10022     USA       NaN              Yu             Kwai    Small  \n",
            "1      51100  France      EMEA         Henriot             Paul    Small  \n",
            "2      75508  France      EMEA        Da Cunha           Daniel   Medium  \n",
            "3      90003     USA       NaN           Young            Julie   Medium  \n",
            "4        NaN     USA       NaN           Brown            Julie   Medium  \n",
            "\n",
            "[5 rows x 25 columns]\n"
          ]
        }
      ]
    },
    {
      "cell_type": "code",
      "source": [
        "print(df.info)\n",
        "print(df.isnull().sum())#isnull checks for missing values and sum() is for adding the count of missing values"
      ],
      "metadata": {
        "colab": {
          "base_uri": "https://localhost:8080/"
        },
        "id": "edJ1oV-xUvAl",
        "outputId": "a1facc3e-a3a1-4593-eeda-e7e23a17f994"
      },
      "execution_count": 15,
      "outputs": [
        {
          "output_type": "stream",
          "name": "stdout",
          "text": [
            "<bound method DataFrame.info of       ORDERNUMBER  QUANTITYORDERED  PRICEEACH  ORDERLINENUMBER    SALES  \\\n",
            "0           10107               30      95.70                2  2871.00   \n",
            "1           10121               34      81.35                5  2765.90   \n",
            "2           10134               41      94.74                2  3884.34   \n",
            "3           10145               45      83.26                6  3746.70   \n",
            "4           10159               49     100.00               14  5205.27   \n",
            "...           ...              ...        ...              ...      ...   \n",
            "2818        10350               20     100.00               15  2244.40   \n",
            "2819        10373               29     100.00                1  3978.51   \n",
            "2820        10386               43     100.00                4  5417.57   \n",
            "2821        10397               34      62.24                1  2116.16   \n",
            "2822        10414               47      65.52                9  3079.44   \n",
            "\n",
            "            ORDERDATE    STATUS  QTR_ID  MONTH_ID  YEAR_ID  ...  \\\n",
            "0      2/24/2003 0:00   Shipped       1         2     2003  ...   \n",
            "1       5/7/2003 0:00   Shipped       2         5     2003  ...   \n",
            "2       7/1/2003 0:00   Shipped       3         7     2003  ...   \n",
            "3      8/25/2003 0:00   Shipped       3         8     2003  ...   \n",
            "4     10/10/2003 0:00   Shipped       4        10     2003  ...   \n",
            "...               ...       ...     ...       ...      ...  ...   \n",
            "2818   12/2/2004 0:00   Shipped       4        12     2004  ...   \n",
            "2819   1/31/2005 0:00   Shipped       1         1     2005  ...   \n",
            "2820    3/1/2005 0:00  Resolved       1         3     2005  ...   \n",
            "2821   3/28/2005 0:00   Shipped       1         3     2005  ...   \n",
            "2822    5/6/2005 0:00   On Hold       2         5     2005  ...   \n",
            "\n",
            "                       ADDRESSLINE1  ADDRESSLINE2           CITY STATE  \\\n",
            "0           897 Long Airport Avenue           NaN            NYC    NY   \n",
            "1                59 rue de l'Abbaye           NaN          Reims   NaN   \n",
            "2     27 rue du Colonel Pierre Avia           NaN          Paris   NaN   \n",
            "3                78934 Hillside Dr.           NaN       Pasadena    CA   \n",
            "4                   7734 Strong St.           NaN  San Francisco    CA   \n",
            "...                             ...           ...            ...   ...   \n",
            "2818             C/ Moralzarzal, 86           NaN         Madrid   NaN   \n",
            "2819                    Torikatu 38           NaN           Oulu   NaN   \n",
            "2820             C/ Moralzarzal, 86           NaN         Madrid   NaN   \n",
            "2821          1 rue Alsace-Lorraine           NaN       Toulouse   NaN   \n",
            "2822             8616 Spinnaker Dr.           NaN         Boston    MA   \n",
            "\n",
            "     POSTALCODE  COUNTRY TERRITORY CONTACTLASTNAME CONTACTFIRSTNAME DEALSIZE  \n",
            "0         10022      USA       NaN              Yu             Kwai    Small  \n",
            "1         51100   France      EMEA         Henriot             Paul    Small  \n",
            "2         75508   France      EMEA        Da Cunha           Daniel   Medium  \n",
            "3         90003      USA       NaN           Young            Julie   Medium  \n",
            "4           NaN      USA       NaN           Brown            Julie   Medium  \n",
            "...         ...      ...       ...             ...              ...      ...  \n",
            "2818      28034    Spain      EMEA          Freyre            Diego    Small  \n",
            "2819      90110  Finland      EMEA       Koskitalo           Pirkko   Medium  \n",
            "2820      28034    Spain      EMEA          Freyre            Diego   Medium  \n",
            "2821      31000   France      EMEA          Roulet          Annette    Small  \n",
            "2822      51003      USA       NaN         Yoshido             Juri   Medium  \n",
            "\n",
            "[2823 rows x 25 columns]>\n",
            "ORDERNUMBER            0\n",
            "QUANTITYORDERED        0\n",
            "PRICEEACH              0\n",
            "ORDERLINENUMBER        0\n",
            "SALES                  0\n",
            "ORDERDATE              0\n",
            "STATUS                 0\n",
            "QTR_ID                 0\n",
            "MONTH_ID               0\n",
            "YEAR_ID                0\n",
            "PRODUCTLINE            0\n",
            "MSRP                   0\n",
            "PRODUCTCODE            0\n",
            "CUSTOMERNAME           0\n",
            "PHONE                  0\n",
            "ADDRESSLINE1           0\n",
            "ADDRESSLINE2        2521\n",
            "CITY                   0\n",
            "STATE               1486\n",
            "POSTALCODE            76\n",
            "COUNTRY                0\n",
            "TERRITORY           1074\n",
            "CONTACTLASTNAME        0\n",
            "CONTACTFIRSTNAME       0\n",
            "DEALSIZE               0\n",
            "dtype: int64\n"
          ]
        }
      ]
    },
    {
      "cell_type": "markdown",
      "source": [
        "store data in sql"
      ],
      "metadata": {
        "id": "UlqSZKRZV3-6"
      }
    },
    {
      "cell_type": "code",
      "source": [
        "import sqlite3\n"
      ],
      "metadata": {
        "id": "zrwFS4c0V3OV"
      },
      "execution_count": 17,
      "outputs": []
    },
    {
      "cell_type": "code",
      "source": [
        "import pandas as pd\n",
        "\n",
        "conn = sqlite3.connect(\"sales.db\")  # Connect to the database\n",
        "df = pd.read_sql(\"SELECT * FROM sales LIMIT 5;\", conn)  # Read a sample\n",
        "\n",
        "print(df.columns)  # Show column names\n"
      ],
      "metadata": {
        "colab": {
          "base_uri": "https://localhost:8080/"
        },
        "id": "M052jZvYfk5y",
        "outputId": "5d6f8181-dc5a-458d-ce49-f52553c80bda"
      },
      "execution_count": 32,
      "outputs": [
        {
          "output_type": "stream",
          "name": "stdout",
          "text": [
            "Index(['ORDERNUMBER', 'QUANTITYORDERED', 'PRICEEACH', 'ORDERLINENUMBER',\n",
            "       'SALES', 'ORDERDATE', 'STATUS', 'QTR_ID', 'MONTH_ID', 'YEAR_ID',\n",
            "       'PRODUCTLINE', 'MSRP', 'PRODUCTCODE', 'CUSTOMERNAME', 'PHONE',\n",
            "       'ADDRESSLINE1', 'ADDRESSLINE2', 'CITY', 'STATE', 'POSTALCODE',\n",
            "       'COUNTRY', 'TERRITORY', 'CONTACTLASTNAME', 'CONTACTFIRSTNAME',\n",
            "       'DEALSIZE'],\n",
            "      dtype='object')\n"
          ]
        }
      ]
    },
    {
      "cell_type": "code",
      "source": [
        "import sqlite3\n",
        "import pandas as pd\n",
        "\n",
        "# Connect to SQLite database (or create it)\n",
        "conn = sqlite3.connect(\"sales.db\")\n",
        "\n",
        "# Load the CSV file\n",
        "df = pd.read_csv(\"sales_data_sample.csv\", encoding=\"latin1\")  # Use latin1 to avoid Unicode errors\n",
        "\n",
        "# Save DataFrame to SQLite\n",
        "df.to_sql(\"sales\", conn, if_exists=\"replace\", index=False)  # Creates the \"sales\" table\n",
        "\n",
        "# Verify if the table is created\n",
        "df_tables = pd.read_sql(\"SELECT name FROM sqlite_master WHERE type='table';\", conn)\n",
        "print(df_tables)\n"
      ],
      "metadata": {
        "colab": {
          "base_uri": "https://localhost:8080/"
        },
        "id": "llNHMgXxg04t",
        "outputId": "68cefa72-cf23-4f7c-c8bb-3d1fbaf131f9"
      },
      "execution_count": 40,
      "outputs": [
        {
          "output_type": "stream",
          "name": "stdout",
          "text": [
            "    name\n",
            "0  sales\n"
          ]
        }
      ]
    },
    {
      "cell_type": "code",
      "source": [
        "df_sales = pd.read_sql(\"SELECT COUNTRY, SUM(SALES) as Total_Sales FROM sales GROUP BY COUNTRY;\", conn)\n",
        "print(df_sales)\n"
      ],
      "metadata": {
        "colab": {
          "base_uri": "https://localhost:8080/"
        },
        "id": "P0uOvYaRg5WM",
        "outputId": "92e14e9a-c47d-4b7d-d176-1c18444a400d"
      },
      "execution_count": 41,
      "outputs": [
        {
          "output_type": "stream",
          "name": "stdout",
          "text": [
            "        COUNTRY  Total_Sales\n",
            "0     Australia    630623.10\n",
            "1       Austria    202062.53\n",
            "2       Belgium    108412.62\n",
            "3        Canada    224078.56\n",
            "4       Denmark    245637.15\n",
            "5       Finland    329581.91\n",
            "6        France   1110916.52\n",
            "7       Germany    220472.09\n",
            "8       Ireland     57756.43\n",
            "9         Italy    374674.31\n",
            "10        Japan    188167.81\n",
            "11       Norway    307463.70\n",
            "12  Philippines     94015.73\n",
            "13    Singapore    288488.41\n",
            "14        Spain   1215686.92\n",
            "15       Sweden    210014.21\n",
            "16  Switzerland    117713.56\n",
            "17           UK    478880.46\n",
            "18          USA   3627982.83\n"
          ]
        }
      ]
    },
    {
      "cell_type": "code",
      "source": [
        "import matplotlib.pyplot as plt\n",
        "import seaborn as sns\n",
        "\n",
        "plt.figure(figsize=(12,6))\n",
        "sns.barplot(x=df_sales[\"Total_Sales\"], y=df_sales[\"COUNTRY\"], palette=\"viridis\")\n",
        "plt.xlabel(\"Total Sales ($)\")\n",
        "plt.ylabel(\"Country\")\n",
        "plt.title(\"Total Sales by Country\")\n",
        "plt.show()\n"
      ],
      "metadata": {
        "colab": {
          "base_uri": "https://localhost:8080/",
          "height": 671
        },
        "id": "Cvdy8NxXhCb5",
        "outputId": "ca8691ae-f540-4ff8-ecfa-133adc2f3bce"
      },
      "execution_count": 42,
      "outputs": [
        {
          "output_type": "stream",
          "name": "stderr",
          "text": [
            "<ipython-input-42-0a3ed26c04fc>:5: FutureWarning: \n",
            "\n",
            "Passing `palette` without assigning `hue` is deprecated and will be removed in v0.14.0. Assign the `y` variable to `hue` and set `legend=False` for the same effect.\n",
            "\n",
            "  sns.barplot(x=df_sales[\"Total_Sales\"], y=df_sales[\"COUNTRY\"], palette=\"viridis\")\n"
          ]
        },
        {
          "output_type": "display_data",
          "data": {
            "text/plain": [
              "<Figure size 1200x600 with 1 Axes>"
            ],
            "image/png": "[encoded data removed]"
          },
          "metadata": {}
        }
      ]
    },
    {
      "cell_type": "code",
      "source": [
        "top_country = df_sales.loc[df_sales[\"Total_Sales\"].idxmax()]\n",
        "bottom_country = df_sales.loc[df_sales[\"Total_Sales\"].idxmin()]\n",
        "print(\"📈 Best Performing Country:\", top_country)\n",
        "print(\"📉 Worst Performing Country:\", bottom_country)\n"
      ],
      "metadata": {
        "colab": {
          "base_uri": "https://localhost:8080/"
        },
        "id": "kY8Xlj3UhFhk",
        "outputId": "01a581ff-6b8b-43f1-fe3a-0a3febb31f82"
      },
      "execution_count": 43,
      "outputs": [
        {
          "output_type": "stream",
          "name": "stdout",
          "text": [
            "📈 Best Performing Country: COUNTRY               USA\n",
            "Total_Sales    3627982.83\n",
            "Name: 18, dtype: object\n",
            "📉 Worst Performing Country: COUNTRY         Ireland\n",
            "Total_Sales    57756.43\n",
            "Name: 8, dtype: object\n"
          ]
        }
      ]
    },
    {
      "cell_type": "code",
      "source": [
        "df_monthly_sales = pd.read_sql(\"SELECT MONTH_ID, SUM(SALES) as Total_Sales FROM sales GROUP BY MONTH_ID;\", conn)\n",
        "print(df_monthly_sales)\n"
      ],
      "metadata": {
        "colab": {
          "base_uri": "https://localhost:8080/"
        },
        "id": "Az0TBHdlhHFS",
        "outputId": "aff9d24f-53b9-45d1-bfc1-ccceabd0c04c"
      },
      "execution_count": 44,
      "outputs": [
        {
          "output_type": "stream",
          "name": "stdout",
          "text": [
            "    MONTH_ID  Total_Sales\n",
            "0          1    785874.44\n",
            "1          2    810441.90\n",
            "2          3    754501.39\n",
            "3          4    669390.96\n",
            "4          5    923972.56\n",
            "5          6    454756.78\n",
            "6          7    514875.97\n",
            "7          8    659310.57\n",
            "8          9    584724.27\n",
            "9         10   1121215.22\n",
            "10        11   2118885.67\n",
            "11        12    634679.12\n"
          ]
        }
      ]
    }
  ]
}